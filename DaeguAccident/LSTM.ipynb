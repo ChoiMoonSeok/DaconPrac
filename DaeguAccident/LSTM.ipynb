{
 "cells": [
  {
   "cell_type": "markdown",
   "metadata": {},
   "source": [
    "# DNN"
   ]
  },
  {
   "cell_type": "code",
   "execution_count": 25,
   "metadata": {},
   "outputs": [],
   "source": [
    "import numpy as np\n",
    "import pandas as pd\n",
    "\n",
    "import tensorflow as tf\n",
    "\n",
    "from sklearn.model_selection import train_test_split\n",
    "from sklearn.metrics import mean_squared_log_error"
   ]
  },
  {
   "cell_type": "markdown",
   "metadata": {},
   "source": [
    "## 데이터 가져오기"
   ]
  },
  {
   "cell_type": "code",
   "execution_count": 26,
   "metadata": {},
   "outputs": [],
   "source": [
    "train_set = pd.read_csv('train_set.csv')\n",
    "train_set = train_set[train_set['ECLO'] <= 25]\n",
    "test_set = pd.read_csv('test_set.csv')"
   ]
  },
  {
   "cell_type": "markdown",
   "metadata": {},
   "source": [
    "## train test valid 분리"
   ]
  },
  {
   "cell_type": "code",
   "execution_count": 40,
   "metadata": {},
   "outputs": [],
   "source": [
    "train_x, test_x, train_y, test_y = train_test_split(train_set[['요일', '사고시간', '기상상태', '도로형태', '노면상태', '사고유형']], train_set['ECLO'], test_size=0.2)"
   ]
  },
  {
   "cell_type": "code",
   "execution_count": 41,
   "metadata": {},
   "outputs": [],
   "source": [
    "train_x, valid_x, train_y, valid_y = train_test_split(train_x, train_y, test_size=0.2)"
   ]
  },
  {
   "cell_type": "markdown",
   "metadata": {},
   "source": [
    "## tensorflow model 정의"
   ]
  },
  {
   "cell_type": "code",
   "execution_count": 42,
   "metadata": {},
   "outputs": [],
   "source": [
    "model = tf.keras.models.Sequential([\n",
    "    tf.keras.layers.Input(shape=(6)),\n",
    "    tf.keras.layers.Embedding(input_dim=6, output_dim=100),\n",
    "    tf.keras.layers.LSTM(128, return_sequences=True),\n",
    "    tf.keras.layers.Dropout(0.8),\n",
    "    tf.keras.layers.LSTM(64, return_sequences=True),\n",
    "    tf.keras.layers.Dropout(0.8),\n",
    "    tf.keras.layers.LSTM(32, return_sequences=True),\n",
    "    tf.keras.layers.Dropout(0.8),\n",
    "    tf.keras.layers.LSTM(16, return_sequences=True),\n",
    "    tf.keras.layers.Flatten(),\n",
    "    tf.keras.layers.Dense(1)]\n",
    ")"
   ]
  },
  {
   "cell_type": "code",
   "execution_count": 43,
   "metadata": {},
   "outputs": [],
   "source": [
    "checkpoint_filepath = \"logs/LSTM/\"\n",
    "checkpoint_callback = tf.keras.callbacks.ModelCheckpoint(\n",
    "    checkpoint_filepath,\n",
    "    monitor=\"val_loss\",\n",
    "    save_best_only=True,\n",
    "    save_weights_only=True,\n",
    ")"
   ]
  },
  {
   "cell_type": "code",
   "execution_count": 44,
   "metadata": {},
   "outputs": [
    {
     "name": "stdout",
     "output_type": "stream",
     "text": [
      "Epoch 1/100\n",
      "791/791 [==============================] - 18s 17ms/step - loss: 0.2664 - mae: 2.1395 - val_loss: 0.2036 - val_mae: 2.0839\n",
      "Epoch 2/100\n",
      "791/791 [==============================] - 12s 15ms/step - loss: 0.2017 - mae: 2.0507 - val_loss: 0.1994 - val_mae: 2.0593\n",
      "Epoch 3/100\n",
      "791/791 [==============================] - 11s 14ms/step - loss: 0.2009 - mae: 2.0497 - val_loss: 0.2035 - val_mae: 2.0840\n",
      "Epoch 4/100\n",
      "791/791 [==============================] - 12s 15ms/step - loss: 0.2008 - mae: 2.0509 - val_loss: 0.2001 - val_mae: 2.0647\n",
      "Epoch 5/100\n",
      "791/791 [==============================] - 11s 14ms/step - loss: 0.2008 - mae: 2.0502 - val_loss: 0.1981 - val_mae: 2.0279\n",
      "Epoch 6/100\n",
      "791/791 [==============================] - 11s 14ms/step - loss: 0.2007 - mae: 2.0501 - val_loss: 0.1988 - val_mae: 2.0528\n",
      "Epoch 7/100\n",
      "791/791 [==============================] - 11s 14ms/step - loss: 0.2004 - mae: 2.0498 - val_loss: 0.1982 - val_mae: 2.0430\n",
      "Epoch 8/100\n",
      "791/791 [==============================] - 11s 15ms/step - loss: 0.2005 - mae: 2.0504 - val_loss: 0.1984 - val_mae: 2.0220\n"
     ]
    },
    {
     "data": {
      "text/plain": [
       "<keras.callbacks.History at 0x7f300c4e97f0>"
      ]
     },
     "execution_count": 44,
     "metadata": {},
     "output_type": "execute_result"
    }
   ],
   "source": [
    "model.compile(optimizer=tf.keras.optimizers.Adam(learning_rate=0.001), loss=tf.keras.losses.MeanSquaredLogarithmicError(), metrics=['mae'])\n",
    "model.fit(train_x, train_y, epochs=100, validation_data=(valid_x, valid_y),\n",
    "          callbacks=[\n",
    "                        checkpoint_callback,\n",
    "                        tf.keras.callbacks.EarlyStopping(monitor=\"val_loss\", patience=3),\n",
    "                    ])"
   ]
  },
  {
   "cell_type": "code",
   "execution_count": 45,
   "metadata": {},
   "outputs": [
    {
     "name": "stdout",
     "output_type": "stream",
     "text": [
      "248/248 [==============================] - 2s 5ms/step\n"
     ]
    },
    {
     "data": {
      "text/plain": [
       "0.448665095926236"
      ]
     },
     "execution_count": 45,
     "metadata": {},
     "output_type": "execute_result"
    }
   ],
   "source": [
    "np.sqrt(mean_squared_log_error(test_y, model.predict(test_x)))"
   ]
  },
  {
   "cell_type": "markdown",
   "metadata": {},
   "source": [
    "## 결과 저장"
   ]
  },
  {
   "cell_type": "code",
   "execution_count": 46,
   "metadata": {},
   "outputs": [
    {
     "name": "stdout",
     "output_type": "stream",
     "text": [
      "343/343 [==============================] - 2s 5ms/step\n"
     ]
    }
   ],
   "source": [
    "ECLOs = model.predict(test_set[['요일', '사고시간', '기상상태', '도로형태', '노면상태', '사고유형']])\n",
    "ans = pd.read_csv('open/sample_submission.csv')\n",
    "ans['ECLO'] = ECLOs\n",
    "ans.to_csv('ans_lstm.csv', index=False)"
   ]
  }
 ],
 "metadata": {
  "kernelspec": {
   "display_name": "Python 3",
   "language": "python",
   "name": "python3"
  },
  "language_info": {
   "codemirror_mode": {
    "name": "ipython",
    "version": 3
   },
   "file_extension": ".py",
   "mimetype": "text/x-python",
   "name": "python",
   "nbconvert_exporter": "python",
   "pygments_lexer": "ipython3",
   "version": "3.9.16"
  }
 },
 "nbformat": 4,
 "nbformat_minor": 2
}
