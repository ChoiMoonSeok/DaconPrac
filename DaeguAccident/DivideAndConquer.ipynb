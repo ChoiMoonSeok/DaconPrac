{
 "cells": [
  {
   "cell_type": "markdown",
   "metadata": {},
   "source": [
    "# Divide & Conquer"
   ]
  },
  {
   "cell_type": "code",
   "execution_count": 1,
   "metadata": {},
   "outputs": [],
   "source": [
    "import numpy as np\n",
    "import pandas as pd\n",
    "\n",
    "import xgboost as xgb\n",
    "\n",
    "from sklearn.model_selection import train_test_split\n",
    "from sklearn.metrics import mean_squared_log_error\n",
    "from sklearn.model_selection import GridSearchCV"
   ]
  },
  {
   "cell_type": "markdown",
   "metadata": {},
   "source": [
    "## 데이터 가져오기"
   ]
  },
  {
   "cell_type": "code",
   "execution_count": 2,
   "metadata": {},
   "outputs": [],
   "source": [
    "train_set = pd.read_csv('train_set.csv')\n",
    "train_set = train_set[train_set['ECLO'] <= 20]\n",
    "test_set = pd.read_csv('test_set.csv')"
   ]
  },
  {
   "cell_type": "markdown",
   "metadata": {},
   "source": [
    "## train test valid 분리"
   ]
  },
  {
   "cell_type": "code",
   "execution_count": 37,
   "metadata": {},
   "outputs": [],
   "source": [
    "train_dead_x, test_dead_x, train_dead_y, test_dead_y = train_test_split(train_set[['요일', '기상상태', '도로형태', '노면상태', '사고유형']], train_set['사망자수'], test_size=0.2, random_state=42)\n",
    "traind_heavy_x, test_heavy_x, train_heavy_y, test_heavy_y = train_test_split(train_set[['요일', '기상상태', '도로형태', '노면상태', '사고유형']], train_set['중상자수'], test_size=0.2, random_state=42)\n",
    "train_light_x, test_light_x, train_light_y, test_light_y = train_test_split(train_set[['요일', '기상상태', '도로형태', '노면상태', '사고유형']], train_set['경상자수'], test_size=0.2, random_state=42)\n",
    "train_patients_x, test_patients_x, train_patients_y, test_patients_y = train_test_split(train_set[['요일', '기상상태', '도로형태', '노면상태', '사고유형']], train_set['부상자수'], test_size=0.2, random_state=42)\n",
    "train_x, test_x, train_y, test_y = train_test_split(train_set[['요일', '기상상태', '도로형태', '노면상태', '사고유형']], train_set['ECLO'], test_size=0.2, random_state=42)"
   ]
  },
  {
   "cell_type": "code",
   "execution_count": 38,
   "metadata": {},
   "outputs": [],
   "source": [
    "train_dead_x, valid_dead_x, train_dead_y, valid_dead_y = train_test_split(train_dead_x, train_dead_y, test_size=0.2, random_state=42)\n",
    "train_heavy_x, valid_heavy_x, train_heavy_y, valid_heavy_y = train_test_split(traind_heavy_x, train_heavy_y, test_size=0.2, random_state=42)\n",
    "train_light_x, valid_light_x, train_light_y, valid_light_y = train_test_split(train_light_x, train_light_y, test_size=0.2, random_state=42)\n",
    "train_patients_x, valid_patients_x, train_patients_y, valid_patients_y = train_test_split(train_patients_x, train_patients_y, test_size=0.2, random_state=42)\n",
    "train_x, valid_x, train_y, valid_y = train_test_split(train_x, train_y, test_size=0.2, random_state=42)"
   ]
  },
  {
   "cell_type": "markdown",
   "metadata": {},
   "source": [
    "# 모델 정의"
   ]
  },
  {
   "cell_type": "code",
   "execution_count": 39,
   "metadata": {},
   "outputs": [],
   "source": [
    "model_dead = xgb.XGBRegressor(gpu_id=0, seed=42)\n",
    "model_heavy = xgb.XGBRegressor(gpu_id=0, seed=42)\n",
    "model_light = xgb.XGBRegressor(gpu_id=0, seed=42)\n",
    "model_patients = xgb.XGBRegressor(gpu_id=0, seed=42)"
   ]
  },
  {
   "cell_type": "markdown",
   "metadata": {},
   "source": [
    "## 모델 학습"
   ]
  },
  {
   "cell_type": "code",
   "execution_count": 63,
   "metadata": {},
   "outputs": [],
   "source": [
    "n_estimators = [i for i in range(10, 100, 10)]\n",
    "depthes = [i for i in range(5, 11)]"
   ]
  },
  {
   "cell_type": "code",
   "execution_count": 64,
   "metadata": {},
   "outputs": [],
   "source": [
    "xgb_params = {\n",
    "    'n_estimators' : n_estimators,\n",
    "    'max_depth' : depthes\n",
    "}"
   ]
  },
  {
   "cell_type": "code",
   "execution_count": 65,
   "metadata": {},
   "outputs": [
    {
     "name": "stderr",
     "output_type": "stream",
     "text": [
      "/usr/local/lib/python3.8/dist-packages/sklearn/model_selection/_search.py:979: UserWarning: One or more of the test scores are non-finite: [nan nan nan nan nan nan nan nan nan nan nan nan nan nan nan nan nan nan\n",
      " nan nan nan nan nan nan nan nan nan nan nan nan nan nan nan nan nan nan\n",
      " nan nan nan nan nan nan nan nan nan nan nan nan nan nan nan nan nan nan]\n",
      "  warnings.warn(\n"
     ]
    },
    {
     "name": "stdout",
     "output_type": "stream",
     "text": [
      "[0]\tvalidation_0-rmse:0.11493\n",
      "[1]\tvalidation_0-rmse:0.11466\n",
      "[2]\tvalidation_0-rmse:0.11452\n",
      "[3]\tvalidation_0-rmse:0.11445\n",
      "[4]\tvalidation_0-rmse:0.11441\n",
      "[5]\tvalidation_0-rmse:0.11439\n",
      "[6]\tvalidation_0-rmse:0.11439\n",
      "[7]\tvalidation_0-rmse:0.11438\n",
      "[8]\tvalidation_0-rmse:0.11437\n",
      "[9]\tvalidation_0-rmse:0.11438\n"
     ]
    },
    {
     "data": {
      "text/plain": [
       "{'max_depth': 5, 'n_estimators': 10}"
      ]
     },
     "execution_count": 65,
     "metadata": {},
     "output_type": "execute_result"
    }
   ],
   "source": [
    "grid_dead = GridSearchCV(model_dead, param_grid=xgb_params, cv=3, refit=True, n_jobs=10, scoring='neg_mean_squared_log_error')\n",
    "grid_dead.fit(train_dead_x, train_dead_y, eval_set=[(valid_dead_x, valid_dead_y)])\n",
    "test_dead_result = []\n",
    "for i in grid_dead.predict(test_dead_x):\n",
    "    if i > 0:\n",
    "        test_dead_result.append(i)\n",
    "    else:\n",
    "        test_dead_result.append(0)\n",
    "grid_dead.best_params_"
   ]
  },
  {
   "cell_type": "code",
   "execution_count": 66,
   "metadata": {},
   "outputs": [
    {
     "name": "stderr",
     "output_type": "stream",
     "text": [
      "/usr/local/lib/python3.8/dist-packages/sklearn/model_selection/_search.py:979: UserWarning: One or more of the test scores are non-finite: [-0.10786721         nan         nan         nan         nan         nan\n",
      "         nan         nan         nan -0.10788914         nan         nan\n",
      "         nan         nan         nan         nan         nan         nan\n",
      "         nan         nan         nan         nan         nan         nan\n",
      "         nan         nan         nan         nan         nan         nan\n",
      "         nan         nan         nan         nan         nan         nan\n",
      "         nan         nan         nan         nan         nan         nan\n",
      "         nan         nan         nan         nan         nan         nan\n",
      "         nan         nan         nan         nan         nan         nan]\n",
      "  warnings.warn(\n"
     ]
    },
    {
     "name": "stdout",
     "output_type": "stream",
     "text": [
      "[0]\tvalidation_0-rmse:0.51040\n",
      "[1]\tvalidation_0-rmse:0.50916\n",
      "[2]\tvalidation_0-rmse:0.50854\n",
      "[3]\tvalidation_0-rmse:0.50822\n",
      "[4]\tvalidation_0-rmse:0.50807\n",
      "[5]\tvalidation_0-rmse:0.50798\n",
      "[6]\tvalidation_0-rmse:0.50793\n",
      "[7]\tvalidation_0-rmse:0.50789\n",
      "[8]\tvalidation_0-rmse:0.50787\n",
      "[9]\tvalidation_0-rmse:0.50783\n"
     ]
    },
    {
     "data": {
      "text/plain": [
       "{'max_depth': 5, 'n_estimators': 10}"
      ]
     },
     "execution_count": 66,
     "metadata": {},
     "output_type": "execute_result"
    }
   ],
   "source": [
    "grid_heavy = GridSearchCV(model_heavy, param_grid=xgb_params, cv=3, refit=True, n_jobs=10, scoring='neg_mean_squared_log_error')\n",
    "grid_heavy.fit(train_heavy_x, train_heavy_y, eval_set=[(valid_heavy_x, valid_heavy_y)])\n",
    "test_heavy_result = []\n",
    "for i in model_heavy.predict(test_heavy_x):\n",
    "    if i > 0:\n",
    "        test_heavy_result.append(i)\n",
    "    else:\n",
    "        test_heavy_result.append(0)\n",
    "grid_heavy.best_params_"
   ]
  },
  {
   "cell_type": "code",
   "execution_count": 67,
   "metadata": {},
   "outputs": [
    {
     "name": "stderr",
     "output_type": "stream",
     "text": [
      "/usr/local/lib/python3.8/dist-packages/sklearn/model_selection/_search.py:979: UserWarning: One or more of the test scores are non-finite: [-0.17958349         nan         nan         nan         nan         nan\n",
      "         nan         nan         nan -0.17952347         nan         nan\n",
      "         nan         nan         nan         nan         nan         nan\n",
      " -0.17954491         nan         nan         nan         nan         nan\n",
      "         nan         nan         nan -0.17959266         nan         nan\n",
      "         nan         nan         nan         nan         nan         nan\n",
      "         nan         nan         nan         nan         nan         nan\n",
      "         nan         nan         nan         nan         nan         nan\n",
      "         nan         nan         nan         nan         nan         nan]\n",
      "  warnings.warn(\n"
     ]
    },
    {
     "name": "stdout",
     "output_type": "stream",
     "text": [
      "[0]\tvalidation_0-rmse:0.91711\n",
      "[1]\tvalidation_0-rmse:0.90694\n",
      "[2]\tvalidation_0-rmse:0.90192\n",
      "[3]\tvalidation_0-rmse:0.89952\n",
      "[4]\tvalidation_0-rmse:0.89837\n",
      "[5]\tvalidation_0-rmse:0.89773\n",
      "[6]\tvalidation_0-rmse:0.89744\n",
      "[7]\tvalidation_0-rmse:0.89729\n",
      "[8]\tvalidation_0-rmse:0.89721\n",
      "[9]\tvalidation_0-rmse:0.89705\n"
     ]
    },
    {
     "data": {
      "text/plain": [
       "{'max_depth': 6, 'n_estimators': 10}"
      ]
     },
     "execution_count": 67,
     "metadata": {},
     "output_type": "execute_result"
    }
   ],
   "source": [
    "grid_light = GridSearchCV(model_light, param_grid=xgb_params, cv=3, refit=True, n_jobs=10, scoring='neg_mean_squared_log_error')\n",
    "grid_light.fit(train_light_x, train_light_y, eval_set=[(valid_light_x, valid_light_y)])\n",
    "test_light_result = []\n",
    "for i in model_light.predict(test_light_x):\n",
    "    if i > 0:\n",
    "        test_light_result.append(i)\n",
    "    else:\n",
    "        test_light_result.append(0)\n",
    "grid_light.best_params_"
   ]
  },
  {
   "cell_type": "code",
   "execution_count": 69,
   "metadata": {},
   "outputs": [
    {
     "name": "stderr",
     "output_type": "stream",
     "text": [
      "/usr/local/lib/python3.8/dist-packages/sklearn/model_selection/_search.py:979: UserWarning: One or more of the test scores are non-finite: [-0.04356197         nan         nan         nan         nan         nan\n",
      "         nan         nan         nan         nan         nan         nan\n",
      "         nan         nan         nan         nan         nan         nan\n",
      "         nan         nan         nan         nan         nan         nan\n",
      "         nan         nan         nan         nan         nan         nan\n",
      "         nan         nan         nan         nan         nan         nan\n",
      "         nan         nan         nan         nan         nan         nan\n",
      "         nan         nan         nan         nan         nan         nan\n",
      "         nan         nan         nan         nan         nan         nan]\n",
      "  warnings.warn(\n"
     ]
    },
    {
     "name": "stdout",
     "output_type": "stream",
     "text": [
      "[0]\tvalidation_0-rmse:0.34917\n",
      "[1]\tvalidation_0-rmse:0.34897\n",
      "[2]\tvalidation_0-rmse:0.34888\n",
      "[3]\tvalidation_0-rmse:0.34883\n",
      "[4]\tvalidation_0-rmse:0.34880\n",
      "[5]\tvalidation_0-rmse:0.34879\n",
      "[6]\tvalidation_0-rmse:0.34878\n",
      "[7]\tvalidation_0-rmse:0.34878\n",
      "[8]\tvalidation_0-rmse:0.34878\n",
      "[9]\tvalidation_0-rmse:0.34879\n"
     ]
    },
    {
     "data": {
      "text/plain": [
       "{'max_depth': 5, 'n_estimators': 10}"
      ]
     },
     "execution_count": 69,
     "metadata": {},
     "output_type": "execute_result"
    }
   ],
   "source": [
    "grid_patients = GridSearchCV(model_patients, param_grid=xgb_params, cv=3, refit=True, n_jobs=10, scoring='neg_mean_squared_log_error')\n",
    "grid_patients.fit(train_patients_x, train_patients_y, eval_set=[(valid_patients_x, valid_patients_y)])\n",
    "test_patients_result = []\n",
    "for i in model_patients.predict(test_patients_x):\n",
    "    if i > 0:\n",
    "        test_patients_result.append(i)\n",
    "    else:\n",
    "        test_patients_result.append(0)\n",
    "grid_patients.best_params_"
   ]
  },
  {
   "cell_type": "markdown",
   "metadata": {},
   "source": [
    "## 성능 측정"
   ]
  },
  {
   "cell_type": "code",
   "execution_count": 70,
   "metadata": {},
   "outputs": [
    {
     "name": "stdout",
     "output_type": "stream",
     "text": [
      "사망자수 : 0.07969607110437096\n",
      "중상자수 : 0.3284977832244147\n",
      "경상자수 : 0.4244114524305828\n",
      "부상자수 : 0.2102914007452747\n"
     ]
    }
   ],
   "source": [
    "print('사망자수 :', np.sqrt(mean_squared_log_error(test_dead_y, test_dead_result)))\n",
    "print('중상자수 :', np.sqrt(mean_squared_log_error(test_heavy_y, test_heavy_result)))\n",
    "print('경상자수 :', np.sqrt(mean_squared_log_error(test_light_y, test_light_result)))\n",
    "print('부상자수 :', np.sqrt(mean_squared_log_error(test_patients_y, test_patients_result)))"
   ]
  },
  {
   "cell_type": "code",
   "execution_count": 71,
   "metadata": {},
   "outputs": [
    {
     "data": {
      "text/plain": [
       "0.44009525234153585"
      ]
     },
     "execution_count": 71,
     "metadata": {},
     "output_type": "execute_result"
    }
   ],
   "source": [
    "test_dead_result = np.array(test_dead_result, dtype=float)\n",
    "test_heavy_result = np.array(test_heavy_result, dtype=float)\n",
    "test_light_result = np.array(test_light_result, dtype=float)\n",
    "test_patients_result = np.array(test_patients_result, dtype=float)\n",
    "np.sqrt(mean_squared_log_error(test_y, test_dead_result * 10 + test_heavy_result * 5 + test_light_result * 3 + test_patients_result * 1))"
   ]
  },
  {
   "cell_type": "markdown",
   "metadata": {},
   "source": [
    "## 결과 저장"
   ]
  },
  {
   "cell_type": "code",
   "execution_count": 72,
   "metadata": {},
   "outputs": [],
   "source": [
    "ECLOs = \\\n",
    "    model_dead.predict(test_set[['요일', '기상상태', '도로형태', '노면상태', '사고유형']]) * 10 \\\n",
    "    + model_heavy.predict(test_set[['요일', '기상상태', '도로형태', '노면상태', '사고유형']]) * 5 \\\n",
    "    + model_light.predict(test_set[['요일', '기상상태', '도로형태', '노면상태', '사고유형']]) * 3 \\\n",
    "    + model_patients.predict(test_set[['요일', '기상상태', '도로형태', '노면상태', '사고유형']])"
   ]
  },
  {
   "cell_type": "code",
   "execution_count": 73,
   "metadata": {},
   "outputs": [],
   "source": [
    "ans = pd.read_csv('open/sample_submission.csv')\n",
    "ans['ECLO'] = ECLOs\n",
    "ans.to_csv('ans_div_con.csv', index=False)"
   ]
  }
 ],
 "metadata": {
  "kernelspec": {
   "display_name": "Python 3",
   "language": "python",
   "name": "python3"
  },
  "language_info": {
   "codemirror_mode": {
    "name": "ipython",
    "version": 3
   },
   "file_extension": ".py",
   "mimetype": "text/x-python",
   "name": "python",
   "nbconvert_exporter": "python",
   "pygments_lexer": "ipython3",
   "version": "3.8.10"
  }
 },
 "nbformat": 4,
 "nbformat_minor": 2
}
