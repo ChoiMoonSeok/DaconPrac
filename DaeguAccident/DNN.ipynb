{
 "cells": [
  {
   "cell_type": "markdown",
   "metadata": {},
   "source": [
    "# DNN"
   ]
  },
  {
   "cell_type": "code",
   "execution_count": 1,
   "metadata": {},
   "outputs": [],
   "source": [
    "import numpy as np\n",
    "import pandas as pd\n",
    "\n",
    "import tensorflow as tf\n",
    "\n",
    "from sklearn.model_selection import train_test_split\n",
    "from sklearn.metrics import mean_squared_log_error"
   ]
  },
  {
   "cell_type": "markdown",
   "metadata": {},
   "source": [
    "## 데이터 가져오기"
   ]
  },
  {
   "cell_type": "code",
   "execution_count": 47,
   "metadata": {},
   "outputs": [],
   "source": [
    "train_set = pd.read_csv('train_set.csv')\n",
    "train_set = train_set[train_set['ECLO'] <= 25]\n",
    "test_set = pd.read_csv('test_set.csv')"
   ]
  },
  {
   "cell_type": "markdown",
   "metadata": {},
   "source": [
    "## train test valid 분리"
   ]
  },
  {
   "cell_type": "code",
   "execution_count": 49,
   "metadata": {},
   "outputs": [],
   "source": [
    "train_x, test_x, train_y, test_y = train_test_split(train_set[['요일', '기상상태', '도로형태', '노면상태', '사고유형']], train_set['ECLO'], test_size=0.2)"
   ]
  },
  {
   "cell_type": "code",
   "execution_count": 50,
   "metadata": {},
   "outputs": [],
   "source": [
    "train_x, valid_x, train_y, valid_y = train_test_split(train_x, train_y, test_size=0.2)"
   ]
  },
  {
   "cell_type": "markdown",
   "metadata": {},
   "source": [
    "## tensorflow model 정의"
   ]
  },
  {
   "cell_type": "code",
   "execution_count": 51,
   "metadata": {},
   "outputs": [],
   "source": [
    "model = tf.keras.models.Sequential([\n",
    "    tf.keras.layers.Input(shape=(5)),\n",
    "    tf.keras.layers.Dense(5, activation='relu', kernel_initializer='glorot_uniform'),\n",
    "    tf.keras.layers.Dense(10, activation='relu', kernel_initializer='glorot_uniform'),\n",
    "    tf.keras.layers.Dense(50, activation='relu', kernel_initializer='glorot_uniform'),\n",
    "    tf.keras.layers.Dropout(0.8),\n",
    "    tf.keras.layers.Dense(100, activation='relu', kernel_initializer='glorot_uniform'),\n",
    "    tf.keras.layers.Dense(50, activation='relu', kernel_initializer='glorot_uniform'),\n",
    "    tf.keras.layers.Dropout(0.8),\n",
    "    tf.keras.layers.Dense(10, activation='relu', kernel_initializer='glorot_uniform'),\n",
    "    tf.keras.layers.Dense(1)]\n",
    ")"
   ]
  },
  {
   "cell_type": "code",
   "execution_count": 52,
   "metadata": {},
   "outputs": [],
   "source": [
    "checkpoint_filepath = \"logs/DNN/\"\n",
    "checkpoint_callback = tf.keras.callbacks.ModelCheckpoint(\n",
    "    checkpoint_filepath,\n",
    "    monitor=\"val_loss\",\n",
    "    save_best_only=True,\n",
    "    save_weights_only=True,\n",
    ")"
   ]
  },
  {
   "cell_type": "code",
   "execution_count": 53,
   "metadata": {},
   "outputs": [
    {
     "name": "stdout",
     "output_type": "stream",
     "text": [
      "Epoch 1/100\n",
      "791/791 [==============================] - 10s 10ms/step - loss: 0.2312 - mae: 2.1462 - val_loss: 0.1967 - val_mae: 2.0126\n",
      "Epoch 2/100\n",
      "791/791 [==============================] - 8s 10ms/step - loss: 0.2008 - mae: 2.0500 - val_loss: 0.1966 - val_mae: 2.0322\n",
      "Epoch 3/100\n",
      "791/791 [==============================] - 8s 10ms/step - loss: 0.2007 - mae: 2.0509 - val_loss: 0.1985 - val_mae: 1.9977\n",
      "Epoch 4/100\n",
      "791/791 [==============================] - 8s 11ms/step - loss: 0.2009 - mae: 2.0516 - val_loss: 0.1965 - val_mae: 2.0209\n",
      "Epoch 5/100\n",
      "791/791 [==============================] - 8s 10ms/step - loss: 0.2011 - mae: 2.0517 - val_loss: 0.1965 - val_mae: 2.0237\n",
      "Epoch 6/100\n",
      "791/791 [==============================] - 8s 10ms/step - loss: 0.2008 - mae: 2.0505 - val_loss: 0.1968 - val_mae: 2.0354\n",
      "Epoch 7/100\n",
      "791/791 [==============================] - 8s 10ms/step - loss: 0.2010 - mae: 2.0502 - val_loss: 0.1970 - val_mae: 2.0402\n",
      "Epoch 8/100\n",
      "791/791 [==============================] - 8s 10ms/step - loss: 0.2009 - mae: 2.0525 - val_loss: 0.1993 - val_mae: 2.0617\n"
     ]
    },
    {
     "data": {
      "text/plain": [
       "<keras.callbacks.History at 0x7f32d34b8430>"
      ]
     },
     "execution_count": 53,
     "metadata": {},
     "output_type": "execute_result"
    }
   ],
   "source": [
    "model.compile(optimizer=tf.keras.optimizers.Adam(learning_rate=0.01), loss=tf.keras.losses.MeanSquaredLogarithmicError(), metrics=['mae'])\n",
    "model.fit(train_x, train_y, epochs=100, validation_data=(valid_x, valid_y),\n",
    "          callbacks=[\n",
    "                        checkpoint_callback,\n",
    "                        tf.keras.callbacks.EarlyStopping(monitor=\"val_loss\", patience=3),\n",
    "                    ])"
   ]
  },
  {
   "cell_type": "code",
   "execution_count": 54,
   "metadata": {},
   "outputs": [
    {
     "name": "stdout",
     "output_type": "stream",
     "text": [
      "248/248 [==============================] - 1s 3ms/step\n"
     ]
    },
    {
     "data": {
      "text/plain": [
       "0.4513449381670079"
      ]
     },
     "execution_count": 54,
     "metadata": {},
     "output_type": "execute_result"
    }
   ],
   "source": [
    "np.sqrt(mean_squared_log_error(test_y, model.predict(test_x)))"
   ]
  },
  {
   "cell_type": "markdown",
   "metadata": {},
   "source": [
    "## 결과 저장"
   ]
  },
  {
   "cell_type": "code",
   "execution_count": null,
   "metadata": {},
   "outputs": [],
   "source": []
  }
 ],
 "metadata": {
  "kernelspec": {
   "display_name": "Python 3",
   "language": "python",
   "name": "python3"
  },
  "language_info": {
   "codemirror_mode": {
    "name": "ipython",
    "version": 3
   },
   "file_extension": ".py",
   "mimetype": "text/x-python",
   "name": "python",
   "nbconvert_exporter": "python",
   "pygments_lexer": "ipython3",
   "version": "3.8.10"
  }
 },
 "nbformat": 4,
 "nbformat_minor": 2
}
