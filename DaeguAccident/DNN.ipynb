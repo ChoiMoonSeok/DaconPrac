{
 "cells": [
  {
   "cell_type": "markdown",
   "metadata": {},
   "source": [
    "# DNN"
   ]
  },
  {
   "cell_type": "code",
   "execution_count": 1,
   "metadata": {},
   "outputs": [],
   "source": [
    "import numpy as np\n",
    "import pandas as pd\n",
    "\n",
    "import tensorflow as tf\n",
    "\n",
    "from sklearn.model_selection import train_test_split\n",
    "from sklearn.metrics import mean_squared_log_error"
   ]
  },
  {
   "cell_type": "markdown",
   "metadata": {},
   "source": [
    "## 데이터 가져오기"
   ]
  },
  {
   "cell_type": "code",
   "execution_count": 2,
   "metadata": {},
   "outputs": [],
   "source": [
    "train_set = pd.read_csv('train_set.csv')\n",
    "train_set = train_set[train_set['ECLO'] <= 25]\n",
    "test_set = pd.read_csv('test_set.csv')"
   ]
  },
  {
   "cell_type": "markdown",
   "metadata": {},
   "source": [
    "## train test valid 분리"
   ]
  },
  {
   "cell_type": "code",
   "execution_count": 3,
   "metadata": {},
   "outputs": [],
   "source": [
    "train_x, test_x, train_y, test_y = train_test_split(train_set[['요일', '기상상태', '도로형태', '노면상태', '사고유형']], train_set['ECLO'], test_size=0.2)"
   ]
  },
  {
   "cell_type": "code",
   "execution_count": 4,
   "metadata": {},
   "outputs": [],
   "source": [
    "train_x, valid_x, train_y, valid_y = train_test_split(train_x, train_y, test_size=0.2)"
   ]
  },
  {
   "cell_type": "markdown",
   "metadata": {},
   "source": [
    "## tensorflow model 정의"
   ]
  },
  {
   "cell_type": "code",
   "execution_count": 9,
   "metadata": {},
   "outputs": [],
   "source": [
    "model = tf.keras.models.Sequential([\n",
    "    tf.keras.layers.Input(shape=(5)),\n",
    "    tf.keras.layers.Dense(5, activation='relu', kernel_initializer='glorot_uniform'),\n",
    "    tf.keras.layers.Dense(10, activation='relu', kernel_initializer='glorot_uniform'),\n",
    "    tf.keras.layers.Dense(50, activation='relu', kernel_initializer='glorot_uniform'),\n",
    "    tf.keras.layers.Dropout(0.8),\n",
    "    tf.keras.layers.Dense(100, activation='relu', kernel_initializer='glorot_uniform'),\n",
    "    tf.keras.layers.Dense(50, activation='relu', kernel_initializer='glorot_uniform'),\n",
    "    tf.keras.layers.Dropout(0.8),\n",
    "    tf.keras.layers.Dense(10, activation='relu', kernel_initializer='glorot_uniform'),\n",
    "    tf.keras.layers.Dense(1)]\n",
    ")"
   ]
  },
  {
   "cell_type": "code",
   "execution_count": 10,
   "metadata": {},
   "outputs": [],
   "source": [
    "checkpoint_filepath = \"logs/DNN/\"\n",
    "checkpoint_callback = tf.keras.callbacks.ModelCheckpoint(\n",
    "    checkpoint_filepath,\n",
    "    monitor=\"val_loss\",\n",
    "    save_best_only=True,\n",
    "    save_weights_only=True,\n",
    ")"
   ]
  },
  {
   "cell_type": "code",
   "execution_count": 11,
   "metadata": {},
   "outputs": [
    {
     "name": "stdout",
     "output_type": "stream",
     "text": [
      "Epoch 1/100\n",
      "791/791 [==============================] - 11s 11ms/step - loss: 0.3623 - mae: 2.5504 - val_loss: 0.2145 - val_mae: 2.0278\n",
      "Epoch 2/100\n",
      "791/791 [==============================] - 8s 10ms/step - loss: 0.2343 - mae: 2.1271 - val_loss: 0.2164 - val_mae: 2.0261\n",
      "Epoch 3/100\n",
      "791/791 [==============================] - 8s 11ms/step - loss: 0.2114 - mae: 2.0478 - val_loss: 0.2071 - val_mae: 2.0404\n",
      "Epoch 4/100\n",
      "791/791 [==============================] - 8s 11ms/step - loss: 0.2031 - mae: 2.0386 - val_loss: 0.2111 - val_mae: 2.0354\n",
      "Epoch 5/100\n",
      "791/791 [==============================] - 8s 11ms/step - loss: 0.2002 - mae: 2.0380 - val_loss: 0.2045 - val_mae: 2.0496\n",
      "Epoch 6/100\n",
      "791/791 [==============================] - 8s 10ms/step - loss: 0.1995 - mae: 2.0383 - val_loss: 0.2043 - val_mae: 2.0498\n",
      "Epoch 7/100\n",
      "791/791 [==============================] - 8s 11ms/step - loss: 0.1993 - mae: 2.0386 - val_loss: 0.2020 - val_mae: 2.0523\n",
      "Epoch 8/100\n",
      "791/791 [==============================] - 9s 11ms/step - loss: 0.1990 - mae: 2.0380 - val_loss: 0.2016 - val_mae: 2.0563\n",
      "Epoch 9/100\n",
      "791/791 [==============================] - 8s 11ms/step - loss: 0.1989 - mae: 2.0394 - val_loss: 0.2028 - val_mae: 2.0455\n",
      "Epoch 10/100\n",
      "791/791 [==============================] - 8s 11ms/step - loss: 0.1987 - mae: 2.0381 - val_loss: 0.2020 - val_mae: 2.0468\n",
      "Epoch 11/100\n",
      "791/791 [==============================] - 8s 11ms/step - loss: 0.1986 - mae: 2.0388 - val_loss: 0.2012 - val_mae: 2.0527\n",
      "Epoch 12/100\n",
      "791/791 [==============================] - 8s 11ms/step - loss: 0.1987 - mae: 2.0385 - val_loss: 0.2003 - val_mae: 2.0643\n",
      "Epoch 13/100\n",
      "791/791 [==============================] - 8s 11ms/step - loss: 0.1981 - mae: 2.0353 - val_loss: 0.1996 - val_mae: 2.0573\n",
      "Epoch 14/100\n",
      "791/791 [==============================] - 8s 11ms/step - loss: 0.1978 - mae: 2.0345 - val_loss: 0.1999 - val_mae: 2.0618\n",
      "Epoch 15/100\n",
      "791/791 [==============================] - 8s 10ms/step - loss: 0.1979 - mae: 2.0364 - val_loss: 0.1997 - val_mae: 2.0633\n",
      "Epoch 16/100\n",
      "791/791 [==============================] - 8s 10ms/step - loss: 0.1977 - mae: 2.0376 - val_loss: 0.1995 - val_mae: 2.0541\n",
      "Epoch 17/100\n",
      "791/791 [==============================] - 8s 10ms/step - loss: 0.1976 - mae: 2.0359 - val_loss: 0.1999 - val_mae: 2.0593\n",
      "Epoch 18/100\n",
      "791/791 [==============================] - 8s 10ms/step - loss: 0.1974 - mae: 2.0373 - val_loss: 0.1994 - val_mae: 2.0536\n",
      "Epoch 19/100\n",
      "791/791 [==============================] - 8s 11ms/step - loss: 0.1976 - mae: 2.0354 - val_loss: 0.1998 - val_mae: 2.0686\n",
      "Epoch 20/100\n",
      "791/791 [==============================] - 8s 10ms/step - loss: 0.1973 - mae: 2.0348 - val_loss: 0.1997 - val_mae: 2.0523\n",
      "Epoch 21/100\n",
      "791/791 [==============================] - 8s 10ms/step - loss: 0.1972 - mae: 2.0342 - val_loss: 0.1995 - val_mae: 2.0561\n"
     ]
    },
    {
     "data": {
      "text/plain": [
       "<keras.callbacks.History at 0x7f0ddc0ee0d0>"
      ]
     },
     "execution_count": 11,
     "metadata": {},
     "output_type": "execute_result"
    }
   ],
   "source": [
    "model.compile(optimizer=tf.keras.optimizers.Adam(learning_rate=0.001), loss=tf.keras.losses.MeanSquaredLogarithmicError(), metrics=['mae'])\n",
    "model.fit(train_x, train_y, epochs=100, validation_data=(valid_x, valid_y),\n",
    "          callbacks=[\n",
    "                        checkpoint_callback,\n",
    "                        tf.keras.callbacks.EarlyStopping(monitor=\"val_loss\", patience=3),\n",
    "                    ])"
   ]
  },
  {
   "cell_type": "code",
   "execution_count": 12,
   "metadata": {},
   "outputs": [
    {
     "name": "stdout",
     "output_type": "stream",
     "text": [
      "248/248 [==============================] - 1s 3ms/step\n"
     ]
    },
    {
     "data": {
      "text/plain": [
       "0.4435358029685519"
      ]
     },
     "execution_count": 12,
     "metadata": {},
     "output_type": "execute_result"
    }
   ],
   "source": [
    "np.sqrt(mean_squared_log_error(test_y, model.predict(test_x)))"
   ]
  },
  {
   "cell_type": "markdown",
   "metadata": {},
   "source": [
    "## 결과 저장"
   ]
  },
  {
   "cell_type": "code",
   "execution_count": 13,
   "metadata": {},
   "outputs": [
    {
     "name": "stdout",
     "output_type": "stream",
     "text": [
      "343/343 [==============================] - 1s 3ms/step\n"
     ]
    }
   ],
   "source": [
    "ECLOs = model.predict(test_set[['요일', '기상상태', '도로형태', '노면상태', '사고유형']])\n",
    "ans = pd.read_csv('open/sample_submission.csv')\n",
    "ans['ECLO'] = ECLOs\n",
    "ans.to_csv('ans_dnn.csv', index=False)"
   ]
  }
 ],
 "metadata": {
  "kernelspec": {
   "display_name": "Python 3",
   "language": "python",
   "name": "python3"
  },
  "language_info": {
   "codemirror_mode": {
    "name": "ipython",
    "version": 3
   },
   "file_extension": ".py",
   "mimetype": "text/x-python",
   "name": "python",
   "nbconvert_exporter": "python",
   "pygments_lexer": "ipython3",
   "version": "3.8.10"
  }
 },
 "nbformat": 4,
 "nbformat_minor": 2
}
